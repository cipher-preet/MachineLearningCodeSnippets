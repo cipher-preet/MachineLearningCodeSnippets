{
 "cells": [
  {
   "cell_type": "code",
   "execution_count": 2,
   "id": "ec270316-ddfa-463f-9c73-3dd0d14ce79f",
   "metadata": {},
   "outputs": [],
   "source": [
    "import pandas as pd\n",
    "import requests\n",
    "from bs4 import BeautifulSoup\n"
   ]
  },
  {
   "cell_type": "code",
   "execution_count": null,
   "id": "e3cb3458-814c-41ac-bc5f-586fc9d2854d",
   "metadata": {},
   "outputs": [],
   "source": [
    "headers={'User-Agent':'Mozilla/5.0 (Windows NT 6.3; Win 64 ; x64) Apple WeKit /537.36(KHTML , like Gecko) Chrome/80.0.3987.162 Safari/537.36'}\n",
    "\n",
    "url = \"https://www.ambitionbox.com/list-of-companies?campaign=desktop_nav&page=1\"\n",
    "\n",
    "requests.get(url,headers=headers)"
   ]
  },
  {
   "cell_type": "code",
   "execution_count": null,
   "id": "7e53f756-d326-4a31-b10c-649e04808009",
   "metadata": {},
   "outputs": [],
   "source": []
  }
 ],
 "metadata": {
  "kernelspec": {
   "display_name": "Python 3 (ipykernel)",
   "language": "python",
   "name": "python3"
  },
  "language_info": {
   "codemirror_mode": {
    "name": "ipython",
    "version": 3
   },
   "file_extension": ".py",
   "mimetype": "text/x-python",
   "name": "python",
   "nbconvert_exporter": "python",
   "pygments_lexer": "ipython3",
   "version": "3.12.4"
  }
 },
 "nbformat": 4,
 "nbformat_minor": 5
}
